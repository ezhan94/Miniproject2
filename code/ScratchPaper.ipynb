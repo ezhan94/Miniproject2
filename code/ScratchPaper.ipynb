{
 "cells": [
  {
   "cell_type": "code",
   "execution_count": 1,
   "metadata": {
    "collapsed": true
   },
   "outputs": [],
   "source": [
    "import nltkHandler"
   ]
  },
  {
   "cell_type": "code",
   "execution_count": 2,
   "metadata": {
    "collapsed": true
   },
   "outputs": [],
   "source": [
    "nh = nltkHandler.NltkHandler()"
   ]
  },
  {
   "cell_type": "code",
   "execution_count": 3,
   "metadata": {
    "collapsed": false
   },
   "outputs": [
    {
     "data": {
      "text/plain": [
       "10"
      ]
     },
     "execution_count": 3,
     "metadata": {},
     "output_type": "execute_result"
    }
   ],
   "source": [
    "wordlist = ['Feed\\'st', 'married', 'pictured', 'light\\'s', 'Unlooked', \n",
    "            'spites', 'awakes', 'self-substantial', 'mak\\'st', 'seemly']\n",
    "len(wordlist)"
   ]
  },
  {
   "cell_type": "code",
   "execution_count": 4,
   "metadata": {
    "collapsed": false
   },
   "outputs": [
    {
     "data": {
      "text/plain": [
       "{\"Feed'st\": (1, 1),\n",
       " 'Unlooked': (2, 1),\n",
       " 'awakes': (2, 1),\n",
       " \"light's\": (1, 1),\n",
       " \"mak'st\": (1, 1),\n",
       " 'married': (3, 1),\n",
       " 'pictured': (3, 1),\n",
       " 'seemly': (2, 1),\n",
       " 'self-substantial': (4, 0),\n",
       " 'spites': (1, 1)}"
      ]
     },
     "execution_count": 4,
     "metadata": {},
     "output_type": "execute_result"
    }
   ],
   "source": [
    "#With new fn\n",
    "nh.getDict(wordlist)"
   ]
  },
  {
   "cell_type": "code",
   "execution_count": 5,
   "metadata": {
    "collapsed": false
   },
   "outputs": [
    {
     "data": {
      "text/plain": [
       "(2, 1)"
      ]
     },
     "execution_count": 5,
     "metadata": {},
     "output_type": "execute_result"
    }
   ],
   "source": [
    "nh.numSyll_isEmph('today')"
   ]
  },
  {
   "cell_type": "code",
   "execution_count": 6,
   "metadata": {
    "collapsed": false
   },
   "outputs": [
    {
     "name": "stdout",
     "output_type": "stream",
     "text": [
      "('Unlooked', 'unlooked')\n"
     ]
    },
    {
     "data": {
      "text/plain": [
       "{\"Feed'st\": (1, 1),\n",
       " 'Unlooked': (2, 1),\n",
       " 'debateth': (3, 0),\n",
       " \"light's\": (1, 1),\n",
       " \"mak'st\": (1, 1),\n",
       " 'married': (2, 0),\n",
       " 'pictured': (2, 0),\n",
       " 'presenteth': (3, 0),\n",
       " 'seemly': (2, 0),\n",
       " 'self-substantial': (4, 0)}"
      ]
     },
     "execution_count": 6,
     "metadata": {},
     "output_type": "execute_result"
    }
   ],
   "source": [
    "#Without new fn\n",
    "nh.getDict(wordlist)"
   ]
  },
  {
   "cell_type": "code",
   "execution_count": 5,
   "metadata": {
    "collapsed": true
   },
   "outputs": [],
   "source": [
    "wrd = 'today'"
   ]
  },
  {
   "cell_type": "code",
   "execution_count": 6,
   "metadata": {
    "collapsed": false
   },
   "outputs": [
    {
     "data": {
      "text/plain": [
       "'ay'"
      ]
     },
     "execution_count": 6,
     "metadata": {},
     "output_type": "execute_result"
    }
   ],
   "source": [
    "wrd[-2:]"
   ]
  },
  {
   "cell_type": "code",
   "execution_count": 3,
   "metadata": {
    "collapsed": false
   },
   "outputs": [
    {
     "name": "stdout",
     "output_type": "stream",
     "text": [
      "257\n",
      "That truly tincture every by beguiled,\n",
      "To our benefit the unknown achieve.\n",
      "Are added another hand it judgement child,\n",
      "The bitterness with appetite anchored live.\n",
      "For which self public each the greater days,\n",
      "In action remain desert over-plus.\n",
      "Me that whate'er a barren hang decays,\n",
      "Effectually minded in since summer's thus.\n",
      "384\n",
      "Thus recounting bears may beauty their foregone,\n",
      "That daily ages worship truly loving.\n",
      "Like a poor many you in sullied moan,\n",
      "In them seemed all-oblivious moving.\n",
      "434\n",
      "Love get thou women's thine so angel hope,\n",
      "Bear my live going in you nature scope.\n"
     ]
    }
   ],
   "source": [
    "import generateSonnet"
   ]
  },
  {
   "cell_type": "code",
   "execution_count": 1,
   "metadata": {
    "collapsed": false
   },
   "outputs": [
    {
     "name": "stdout",
     "output_type": "stream",
     "text": [
      "132\n",
      "Expressing murd'rous credit heavenly rare,\n",
      "Every religious looks be fortune's thee.\n",
      "Disposed heaven breasts against compare,\n",
      "No passion even other descriptions me.\n",
      "Doth husband even fortune painting defects,\n",
      "The very if of after and despair.\n",
      "When I height tenure contented respects,\n",
      "A music finding never exceeded heir.\n",
      "204\n",
      "Kills heavily living invention lie,\n",
      "Eyes you doth flourish self true heretic.\n",
      "Thy end and touches with love's dignity,\n",
      "Try raven my be kindness politic.\n",
      "226\n",
      "So lascivious of you longer blind,\n",
      "The death's I nothing you of former mind.\n"
     ]
    }
   ],
   "source": [
    "import generateSonnet"
   ]
  },
  {
   "cell_type": "code",
   "execution_count": null,
   "metadata": {
    "collapsed": true
   },
   "outputs": [],
   "source": []
  }
 ],
 "metadata": {
  "anaconda-cloud": {},
  "kernelspec": {
   "display_name": "Python [Root]",
   "language": "python",
   "name": "Python [Root]"
  },
  "language_info": {
   "codemirror_mode": {
    "name": "ipython",
    "version": 2
   },
   "file_extension": ".py",
   "mimetype": "text/x-python",
   "name": "python",
   "nbconvert_exporter": "python",
   "pygments_lexer": "ipython2",
   "version": "2.7.11"
  }
 },
 "nbformat": 4,
 "nbformat_minor": 0
}
