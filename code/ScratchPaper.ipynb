{
 "cells": [
  {
   "cell_type": "code",
   "execution_count": 1,
   "metadata": {
    "collapsed": true
   },
   "outputs": [],
   "source": [
    "import nltkHandler"
   ]
  },
  {
   "cell_type": "code",
   "execution_count": 2,
   "metadata": {
    "collapsed": true
   },
   "outputs": [],
   "source": [
    "nh = nltkHandler.NltkHandler()"
   ]
  },
  {
   "cell_type": "code",
   "execution_count": 5,
   "metadata": {
    "collapsed": false
   },
   "outputs": [
    {
     "data": {
      "text/plain": [
       "10"
      ]
     },
     "execution_count": 5,
     "metadata": {},
     "output_type": "execute_result"
    }
   ],
   "source": [
    "wordlist = ['Feed\\'st', 'married', 'pictured', 'light\\'s', 'Unlooked', \n",
    "            'presenteth', 'debateth', 'self-substantial', 'mak\\'st', 'seemly']\n",
    "len(wordlist)"
   ]
  },
  {
   "cell_type": "code",
   "execution_count": 4,
   "metadata": {
    "collapsed": false
   },
   "outputs": [
    {
     "name": "stdout",
     "output_type": "stream",
     "text": [
      "('Unlooked', 'unlooked')\n"
     ]
    },
    {
     "data": {
      "text/plain": [
       "{\"Feed'st\": (1, 1),\n",
       " 'Unlooked': (2, 1),\n",
       " 'debateth': (3, 0),\n",
       " \"light's\": (1, 1),\n",
       " \"mak'st\": (1, 1),\n",
       " 'married': (2, 0),\n",
       " 'pictured': (2, 0),\n",
       " 'presenteth': (3, 0),\n",
       " 'self-substantial': (4, 0)}"
      ]
     },
     "execution_count": 4,
     "metadata": {},
     "output_type": "execute_result"
    }
   ],
   "source": [
    "#With new fn\n",
    "nh.getDict(wordlist)"
   ]
  },
  {
   "cell_type": "code",
   "execution_count": 5,
   "metadata": {
    "collapsed": false
   },
   "outputs": [
    {
     "data": {
      "text/plain": [
       "(2, 1)"
      ]
     },
     "execution_count": 5,
     "metadata": {},
     "output_type": "execute_result"
    }
   ],
   "source": [
    "nh.numSyll_isEmph('today')"
   ]
  },
  {
   "cell_type": "code",
   "execution_count": 6,
   "metadata": {
    "collapsed": false
   },
   "outputs": [
    {
     "name": "stdout",
     "output_type": "stream",
     "text": [
      "('Unlooked', 'unlooked')\n"
     ]
    },
    {
     "data": {
      "text/plain": [
       "{\"Feed'st\": (1, 1),\n",
       " 'Unlooked': (2, 1),\n",
       " 'debateth': (3, 0),\n",
       " \"light's\": (1, 1),\n",
       " \"mak'st\": (1, 1),\n",
       " 'married': (2, 0),\n",
       " 'pictured': (2, 0),\n",
       " 'presenteth': (3, 0),\n",
       " 'seemly': (2, 0),\n",
       " 'self-substantial': (4, 0)}"
      ]
     },
     "execution_count": 6,
     "metadata": {},
     "output_type": "execute_result"
    }
   ],
   "source": [
    "#Without new fn\n",
    "nh.getDict(wordlist)"
   ]
  },
  {
   "cell_type": "code",
   "execution_count": null,
   "metadata": {
    "collapsed": true
   },
   "outputs": [],
   "source": []
  }
 ],
 "metadata": {
  "kernelspec": {
   "display_name": "Python [Root]",
   "language": "python",
   "name": "Python [Root]"
  },
  "language_info": {
   "codemirror_mode": {
    "name": "ipython",
    "version": 2
   },
   "file_extension": ".py",
   "mimetype": "text/x-python",
   "name": "python",
   "nbconvert_exporter": "python",
   "pygments_lexer": "ipython2",
   "version": "2.7.11"
  }
 },
 "nbformat": 4,
 "nbformat_minor": 0
}
